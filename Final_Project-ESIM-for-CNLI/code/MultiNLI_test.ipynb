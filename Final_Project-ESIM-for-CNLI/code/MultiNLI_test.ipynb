{
 "cells": [
  {
   "cell_type": "code",
   "execution_count": 1,
   "metadata": {},
   "outputs": [],
   "source": [
    "import torch\n",
    "import pickle"
   ]
  },
  {
   "cell_type": "code",
   "execution_count": 2,
   "metadata": {},
   "outputs": [
    {
     "name": "stderr",
     "output_type": "stream",
     "text": [
      "/home/lyhe/anaconda3/envs/fastnlp/lib/python3.6/site-packages/tqdm/autonotebook/__init__.py:14: TqdmExperimentalWarning: Using `tqdm.autonotebook.tqdm` in notebook mode. Use `tqdm.tqdm` instead to force console mode (e.g. in jupyter console)\n",
      "  \" (e.g. in jupyter console)\", TqdmExperimentalWarning)\n"
     ]
    }
   ],
   "source": [
    "with open('multinli_ds_dev_new.pkl', 'rb') as file:\n",
    "    ds_dev = pickle.load(file)"
   ]
  },
  {
   "cell_type": "code",
   "execution_count": 3,
   "metadata": {},
   "outputs": [
    {
     "data": {
      "text/plain": [
       "{'gold_label': neutral type=str,\n",
       "'genre': slate type=str,\n",
       "'premise': the new rights are nice enough type=str,\n",
       "'hypothesis': everyone really likes the newest benefits type=str,\n",
       "'label': 1 type=int,\n",
       "'premise_words': ['the', 'new', 'rights', 'are', 'nice', 'enough'] type=list,\n",
       "'hypothesis_words': ['everyone', 'really', 'likes', 'the', 'newest', 'benefits'] type=list,\n",
       "'p_seq': [2, 82, 948, 16, 396, 253] type=list,\n",
       "'h_seq': [351, 92, 2074, 2, 6235, 409] type=list}"
      ]
     },
     "execution_count": 3,
     "metadata": {},
     "output_type": "execute_result"
    }
   ],
   "source": [
    "ds_dev[0]"
   ]
  },
  {
   "cell_type": "code",
   "execution_count": 4,
   "metadata": {},
   "outputs": [
    {
     "name": "stderr",
     "output_type": "stream",
     "text": [
      "/home/lyhe/anaconda3/envs/fastnlp/lib/python3.6/site-packages/torch/serialization.py:434: SourceChangeWarning: source code of class 'model.ESIM' has changed. you can retrieve the original source code by accessing the object's source attribute or set `torch.nn.Module.dump_patches = True` and use the patch tool to revert the changes.\n",
      "  warnings.warn(msg, SourceChangeWarning)\n"
     ]
    }
   ],
   "source": [
    "multinli_model = torch.load('multinli_model.pkl')"
   ]
  },
  {
   "cell_type": "code",
   "execution_count": 5,
   "metadata": {},
   "outputs": [],
   "source": [
    "from fastNLP import AccuracyMetric\n",
    "from fastNLP import Tester"
   ]
  },
  {
   "cell_type": "code",
   "execution_count": 6,
   "metadata": {},
   "outputs": [
    {
     "name": "stdout",
     "output_type": "stream",
     "text": [
      "[tester] \n",
      "AccuracyMetric: acc=0.687825\n"
     ]
    }
   ],
   "source": [
    "tester = Tester(data=ds_dev, model=multinli_model, metrics=AccuracyMetric())\n",
    "acc = tester.test()"
   ]
  }
 ],
 "metadata": {
  "kernelspec": {
   "display_name": "Python 3",
   "language": "python",
   "name": "python3"
  },
  "language_info": {
   "codemirror_mode": {
    "name": "ipython",
    "version": 3
   },
   "file_extension": ".py",
   "mimetype": "text/x-python",
   "name": "python",
   "nbconvert_exporter": "python",
   "pygments_lexer": "ipython3",
   "version": "3.6.7"
  }
 },
 "nbformat": 4,
 "nbformat_minor": 2
}
